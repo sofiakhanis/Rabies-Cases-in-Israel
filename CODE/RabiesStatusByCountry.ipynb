{
  "nbformat": 4,
  "nbformat_minor": 0,
  "metadata": {
    "colab": {
      "provenance": []
    },
    "kernelspec": {
      "name": "python3",
      "display_name": "Python 3"
    },
    "language_info": {
      "name": "python"
    }
  },
  "cells": [
    {
      "cell_type": "code",
      "source": [
        "from selenium import webdriver\n",
        "from selenium.webdriver.chrome.options import Options\n",
        "from selenium.webdriver.common.by import By\n",
        "import time\n",
        "import tempfile\n",
        "\n",
        "options = Options()\n",
        "options.add_argument(\"--headless=new\")\n",
        "options.add_argument(\"--disable-gpu\")\n",
        "options.add_argument(\"--no-sandbox\")\n",
        "options.add_argument(\"--incognito\")\n",
        "\n",
        "driver = webdriver.Chrome(options=options)\n",
        "\n",
        "driver.get(\"https://www.cdc.gov/rabies/country-data/index.html\")\n",
        "\n",
        "time.sleep(5)\n",
        "\n",
        "country_elements = driver.find_elements(By.XPATH, \"//option\")\n",
        "\n",
        "countries = [opt.text.strip() for opt in country_elements if opt.text.strip()]\n",
        "\n",
        "driver.quit()\n"
      ],
      "metadata": {
        "id": "1HY0pZn7jA2g"
      },
      "execution_count": 4,
      "outputs": []
    },
    {
      "cell_type": "code",
      "source": [
        "import pandas as pd\n",
        "\n",
        "columns = [\n",
        "    \"Country\",\n",
        "    \"Lyssavirus Free\",\n",
        "    \"Rabies Virus Free\",\n",
        "    \"Canine (Dog) Rabies Free\",\n",
        "    \"Robust National Rabies Surveillance\",\n",
        "    \"Robust National Rabies Control Program Implemented\",\n",
        "    \"Vaccine Availability\",\n",
        "    \"RIG Availability\"\n",
        "]\n",
        "\n",
        "df = pd.DataFrame(columns=columns)\n",
        "df[\"Country\"] = countries\n",
        "\n",
        "df.to_excel(\"rabies_country_template.xlsx\", index=False)"
      ],
      "metadata": {
        "id": "H5moSsFpliuh"
      },
      "execution_count": 5,
      "outputs": []
    }
  ]
}